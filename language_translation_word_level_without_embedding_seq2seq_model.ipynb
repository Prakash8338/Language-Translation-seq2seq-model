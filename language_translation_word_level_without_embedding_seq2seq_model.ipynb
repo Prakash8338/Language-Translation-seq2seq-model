{
 "cells": [
  {
   "cell_type": "code",
   "execution_count": 1,
   "id": "a8c003cf",
   "metadata": {},
   "outputs": [],
   "source": [
    "import numpy as np\n",
    "import pandas as pd\n",
    "import keras\n",
    "import os\n",
    "from pathlib import Path"
   ]
  },
  {
   "cell_type": "code",
   "execution_count": 2,
   "id": "2b4e78c8",
   "metadata": {},
   "outputs": [],
   "source": [
    "import pandas as pd\n",
    "import numpy as np\n",
    "import string\n",
    "from string import digits\n",
    "import matplotlib.pyplot as plt\n",
    "%matplotlib inline\n",
    "import re"
   ]
  },
  {
   "cell_type": "code",
   "execution_count": 3,
   "id": "07c3f2e1",
   "metadata": {},
   "outputs": [],
   "source": [
    "batch_size = 64  # Batch size for training.\n",
    "epochs = 10  # Number of epochs to train for.\n",
    "latent_dim = 256  # Latent dimensionality of the encoding space.\n",
    "num_samples = 5000  # Number of samples to train on."
   ]
  },
  {
   "cell_type": "code",
   "execution_count": 4,
   "id": "1fac4831",
   "metadata": {},
   "outputs": [],
   "source": [
    "data_path = \"fra.txt\""
   ]
  },
  {
   "cell_type": "code",
   "execution_count": 5,
   "id": "fa5029bd",
   "metadata": {},
   "outputs": [],
   "source": [
    "input_texts = []\n",
    "target_texts = []\n",
    "with open(data_path, \"r\", encoding=\"utf-8\") as f:\n",
    "    lines = f.read().split(\"\\n\")\n",
    "for line in lines[: min(num_samples, len(lines) - 1)]:\n",
    "    input_text, target_text, _ = line.split(\"\\t\")\n",
    "    # We use \"tab\" as the \"start sequence\" character\n",
    "    # for the targets, and \"\\n\" as \"end sequence\" character.\n",
    "    target_text = target_text\n",
    "    input_texts.append(input_text)\n",
    "    target_texts.append(target_text)"
   ]
  },
  {
   "cell_type": "code",
   "execution_count": 6,
   "id": "f671174e",
   "metadata": {},
   "outputs": [],
   "source": [
    "exclude = set(string.punctuation)"
   ]
  },
  {
   "cell_type": "code",
   "execution_count": 7,
   "id": "d14d7e44",
   "metadata": {},
   "outputs": [],
   "source": [
    "remove_digits = str.maketrans('', '', digits)"
   ]
  },
  {
   "cell_type": "code",
   "execution_count": 8,
   "id": "50a35164",
   "metadata": {},
   "outputs": [],
   "source": [
    "input_data = []\n",
    "for i in range(0, len(input_texts)):\n",
    "    review = input_texts[i]\n",
    "    review = review.lower()\n",
    "    review = re.sub(\"'\", '', review)\n",
    "    review = re.sub(\",\", ' COMMA', review) \n",
    "    review = [ch for ch in review if ch not in exclude]\n",
    "    review = ''.join(review)\n",
    "    review = review.translate(remove_digits)\n",
    "    input_data.append(review)"
   ]
  },
  {
   "cell_type": "code",
   "execution_count": 9,
   "id": "8529ea3c",
   "metadata": {},
   "outputs": [],
   "source": [
    "target_data = []\n",
    "for i in range(0, len(target_texts)):\n",
    "    review = target_texts[i]\n",
    "    review = review.lower()\n",
    "    review = re.sub(\"'\", '', review)\n",
    "    review = re.sub(\",\", ' COMMA', review)\n",
    "    review = [ch for ch in review if ch not in exclude]\n",
    "    review = ''.join(review)\n",
    "    review = review.translate(remove_digits)\n",
    "    review = 'START_ '+ review + ' _END'\n",
    "    target_data.append(review)"
   ]
  },
  {
   "cell_type": "code",
   "execution_count": 10,
   "id": "d65c56d4",
   "metadata": {},
   "outputs": [
    {
     "data": {
      "text/plain": [
       "'START_ va  _END'"
      ]
     },
     "execution_count": 10,
     "metadata": {},
     "output_type": "execute_result"
    }
   ],
   "source": [
    "target_data[0]"
   ]
  },
  {
   "cell_type": "code",
   "execution_count": 11,
   "id": "46aa9f75",
   "metadata": {},
   "outputs": [],
   "source": [
    "english_words=set()\n",
    "for eng in input_data:\n",
    "    for word in eng.split():\n",
    "        if word not in english_words:\n",
    "            english_words.add(word)"
   ]
  },
  {
   "cell_type": "code",
   "execution_count": 12,
   "id": "ecd1bb3e",
   "metadata": {},
   "outputs": [],
   "source": [
    "french_words=set()\n",
    "for french in target_data:\n",
    "    for word in french.split():\n",
    "        if word not in french_words:\n",
    "            french_words.add(word)"
   ]
  },
  {
   "cell_type": "code",
   "execution_count": 13,
   "id": "44695a89",
   "metadata": {},
   "outputs": [
    {
     "name": "stdout",
     "output_type": "stream",
     "text": [
      "1107\n",
      "2583\n"
     ]
    }
   ],
   "source": [
    "print(len(english_words))\n",
    "print(len(french_words))"
   ]
  },
  {
   "cell_type": "code",
   "execution_count": 14,
   "id": "42dfa305",
   "metadata": {},
   "outputs": [
    {
     "data": {
      "text/plain": [
       "4"
      ]
     },
     "execution_count": 14,
     "metadata": {},
     "output_type": "execute_result"
    }
   ],
   "source": [
    "lenght_list_english=[]\n",
    "for l in input_data:\n",
    "    lenght_list_english.append(len(l.split(' ')))\n",
    "np.max(lenght_list_english)"
   ]
  },
  {
   "cell_type": "code",
   "execution_count": 15,
   "id": "79502ec4",
   "metadata": {},
   "outputs": [
    {
     "data": {
      "text/plain": [
       "12"
      ]
     },
     "execution_count": 15,
     "metadata": {},
     "output_type": "execute_result"
    }
   ],
   "source": [
    "lenght_list_french=[]\n",
    "for l in target_data:\n",
    "    lenght_list_french.append(len(l.split(' ')))\n",
    "np.max(lenght_list_french)"
   ]
  },
  {
   "cell_type": "code",
   "execution_count": 16,
   "id": "2c2f410d",
   "metadata": {},
   "outputs": [],
   "source": [
    "all_english_words = sorted(list(english_words))\n",
    "all_french_words = sorted(list(french_words))\n",
    "english_vocab_size = len(all_english_words)\n",
    "french_vocab_size = len(all_french_words)\n",
    "english_max_sent_length = np.max(lenght_list_english)\n",
    "french_max_sent_length = np.max(lenght_list_french)"
   ]
  },
  {
   "cell_type": "code",
   "execution_count": 17,
   "id": "6b8c7961",
   "metadata": {},
   "outputs": [],
   "source": [
    "english_token_index = dict([(word, i) for i, word in enumerate(all_english_words)])\n",
    "french_token_index = dict([(word, i) for i, word in enumerate(all_french_words)])"
   ]
  },
  {
   "cell_type": "code",
   "execution_count": 18,
   "id": "f02f5b7c",
   "metadata": {},
   "outputs": [],
   "source": [
    "encoder_input_data = np.zeros((num_samples, english_max_sent_length, english_vocab_size), dtype='float32')\n",
    "decoder_input_data = np.zeros((num_samples, french_max_sent_length, french_vocab_size), dtype='float32')\n",
    "decoder_target_data = np.zeros((num_samples, french_max_sent_length, french_vocab_size), dtype='float32')"
   ]
  },
  {
   "cell_type": "code",
   "execution_count": 19,
   "id": "859deefd",
   "metadata": {},
   "outputs": [],
   "source": [
    "for i, (input_text, target_text) in enumerate(zip(input_data, target_data)):\n",
    "    for t, word in enumerate(input_text.split()):\n",
    "        encoder_input_data[i, t, english_token_index[word]] = 1.\n",
    "    for t, word in enumerate(target_text.split()):\n",
    "        # decoder_target_data is ahead of decoder_input_data by one timestep\n",
    "        decoder_input_data[i, t, french_token_index[word]] = 1.\n",
    "        if t > 0:\n",
    "            # decoder_target_data will be ahead by one timestep\n",
    "            # and will not include the start character.\n",
    "            decoder_target_data[i, t - 1, french_token_index[word]] = 1."
   ]
  },
  {
   "cell_type": "code",
   "execution_count": 20,
   "id": "e8b84d75",
   "metadata": {},
   "outputs": [],
   "source": [
    "#building the model\n",
    "# Define an input sequence and process it.\n",
    "encoder_inputs = keras.Input(shape=(None, english_vocab_size))\n",
    "encoder = keras.layers.LSTM(latent_dim, return_state=True)\n",
    "encoder_outputs, state_h, state_c = encoder(encoder_inputs)\n",
    "\n",
    "# We discard `encoder_outputs` and only keep the states.\n",
    "encoder_states = [state_h, state_c]"
   ]
  },
  {
   "cell_type": "code",
   "execution_count": 21,
   "id": "958c7ca7",
   "metadata": {},
   "outputs": [],
   "source": [
    "# Set up the decoder, using `encoder_states` as initial state.\n",
    "decoder_inputs = keras.Input(shape=(None, french_vocab_size))\n",
    "\n",
    "# We set up our decoder to return full output sequences,\n",
    "# and to return internal states as well. We don't use the\n",
    "# return states in the training model, but we will use them in inference.\n",
    "decoder_lstm = keras.layers.LSTM(latent_dim, return_sequences=True, return_state=True)\n",
    "decoder_outputs, _, _ = decoder_lstm(decoder_inputs, initial_state=encoder_states)\n",
    "decoder_dense = keras.layers.Dense(french_vocab_size, activation=\"softmax\")\n",
    "decoder_outputs = decoder_dense(decoder_outputs)"
   ]
  },
  {
   "cell_type": "code",
   "execution_count": 22,
   "id": "deb30c31",
   "metadata": {},
   "outputs": [],
   "source": [
    "# Define the model that will turn\n",
    "# `encoder_input_data` & `decoder_input_data` into `decoder_target_data`\n",
    "model = keras.Model([encoder_inputs, decoder_inputs], decoder_outputs)"
   ]
  },
  {
   "cell_type": "code",
   "execution_count": 23,
   "id": "b83886b9",
   "metadata": {},
   "outputs": [
    {
     "name": "stdout",
     "output_type": "stream",
     "text": [
      "Epoch 1/10\n",
      "75/75 [==============================] - 48s 569ms/step - loss: 1.7068 - accuracy: 0.0822 - val_loss: 1.8838 - val_accuracy: 0.0833\n",
      "Epoch 2/10\n",
      "75/75 [==============================] - 35s 471ms/step - loss: 1.5964 - accuracy: 0.0956 - val_loss: 1.9374 - val_accuracy: 0.0837\n",
      "Epoch 3/10\n",
      "75/75 [==============================] - 35s 463ms/step - loss: 1.5753 - accuracy: 0.0966 - val_loss: 1.9937 - val_accuracy: 0.0837\n",
      "Epoch 4/10\n",
      "75/75 [==============================] - 34s 454ms/step - loss: 1.5486 - accuracy: 0.0967 - val_loss: 2.0177 - val_accuracy: 0.0837\n",
      "Epoch 5/10\n",
      "75/75 [==============================] - 34s 454ms/step - loss: 1.5136 - accuracy: 0.1005 - val_loss: 2.0113 - val_accuracy: 0.0870\n",
      "Epoch 6/10\n",
      "75/75 [==============================] - 34s 459ms/step - loss: 1.4784 - accuracy: 0.1075 - val_loss: 2.0298 - val_accuracy: 0.0877\n",
      "Epoch 7/10\n",
      "75/75 [==============================] - 34s 456ms/step - loss: 1.4493 - accuracy: 0.1110 - val_loss: 2.0229 - val_accuracy: 0.0897\n",
      "Epoch 8/10\n",
      "75/75 [==============================] - 34s 455ms/step - loss: 1.4232 - accuracy: 0.1149 - val_loss: 2.0324 - val_accuracy: 0.0870\n",
      "Epoch 9/10\n",
      "75/75 [==============================] - 35s 464ms/step - loss: 1.3978 - accuracy: 0.1168 - val_loss: 2.0195 - val_accuracy: 0.0933\n",
      "Epoch 10/10\n",
      "75/75 [==============================] - 36s 476ms/step - loss: 1.3748 - accuracy: 0.1198 - val_loss: 2.0080 - val_accuracy: 0.1013\n"
     ]
    }
   ],
   "source": [
    "#training the model\n",
    "model.compile(\n",
    "    optimizer=\"rmsprop\", loss=\"categorical_crossentropy\", metrics=[\"accuracy\"]\n",
    ")\n",
    "model.fit(\n",
    "    [encoder_input_data, decoder_input_data],\n",
    "    decoder_target_data,\n",
    "    batch_size=batch_size,\n",
    "    epochs=epochs,\n",
    "    validation_split=0.05,\n",
    ")\n",
    "# Save model\n",
    "model.save(\"s2s_model.keras\")"
   ]
  },
  {
   "cell_type": "code",
   "execution_count": 24,
   "id": "b401f704",
   "metadata": {},
   "outputs": [],
   "source": [
    "# Define sampling models\n",
    "# Restore the model and construct the encoder and decoder.\n",
    "model = keras.models.load_model(\"s2s_model.keras\")\n",
    "\n",
    "encoder_inputs = model.input[0]  # input_1\n",
    "encoder_outputs, state_h_enc, state_c_enc = model.layers[2].output  # lstm_1\n",
    "encoder_states = [state_h_enc, state_c_enc]\n",
    "encoder_model = keras.Model(encoder_inputs, encoder_states)\n",
    "\n",
    "decoder_inputs = model.input[1]  # input_2\n",
    "decoder_state_input_h = keras.Input(shape=(latent_dim,))\n",
    "decoder_state_input_c = keras.Input(shape=(latent_dim,))\n",
    "decoder_states_inputs = [decoder_state_input_h, decoder_state_input_c]\n",
    "decoder_lstm = model.layers[3]\n",
    "decoder_outputs, state_h_dec, state_c_dec = decoder_lstm(\n",
    "    decoder_inputs, initial_state=decoder_states_inputs\n",
    ")\n",
    "decoder_states = [state_h_dec, state_c_dec]\n",
    "decoder_dense = model.layers[4]\n",
    "decoder_outputs = decoder_dense(decoder_outputs)\n",
    "decoder_model = keras.Model(\n",
    "    [decoder_inputs] + decoder_states_inputs, [decoder_outputs] + decoder_states\n",
    ")\n",
    "\n",
    "# Reverse-lookup token index to decode sequences back to\n",
    "# something readable.\n",
    "reverse_input_char_index = dict((i, char) for char, i in english_token_index.items())\n",
    "reverse_target_char_index = dict((i, char) for char, i in french_token_index.items())"
   ]
  },
  {
   "cell_type": "code",
   "execution_count": 25,
   "id": "81000d1c",
   "metadata": {},
   "outputs": [],
   "source": [
    "def decode_sequence(input_seq):\n",
    "    # Encode the input as state vectors.\n",
    "    states_value = encoder_model.predict(input_seq, verbose=0)\n",
    "\n",
    "    # Generate empty target sequence of length 1.\n",
    "    target_seq = np.zeros((1, 1, french_vocab_size))\n",
    "    # Populate the first character of target sequence with the start character.\n",
    "    target_seq[0, 0, french_token_index['START_']] = 1.0\n",
    "\n",
    "    # Sampling loop for a batch of sequences\n",
    "    # (to simplify, here we assume a batch of size 1).\n",
    "    stop_condition = False\n",
    "    decoded_sentence = \"\"\n",
    "    while not stop_condition:\n",
    "        output_tokens, h, c = decoder_model.predict(\n",
    "            [target_seq] + states_value, verbose=0\n",
    "        )\n",
    "\n",
    "        # Sample a token\n",
    "        sampled_token_index = np.argmax(output_tokens[0, -1, :])\n",
    "        sampled_char = reverse_target_char_index[sampled_token_index]\n",
    "        decoded_sentence += ' '+sampled_char\n",
    "\n",
    "        # Exit condition: either hit max length\n",
    "        # or find stop character.\n",
    "        if sampled_char == '_END' or len(decoded_sentence) > french_max_sent_length:\n",
    "            stop_condition = True\n",
    "\n",
    "        # Update the target sequence (of length 1).\n",
    "        target_seq = np.zeros((1, 1, french_vocab_size))\n",
    "        target_seq[0, 0, sampled_token_index] = 1.0\n",
    "\n",
    "        # Update states\n",
    "        states_value = [h, c]\n",
    "    return decoded_sentence"
   ]
  },
  {
   "cell_type": "code",
   "execution_count": 26,
   "id": "48df6c3f",
   "metadata": {},
   "outputs": [
    {
     "name": "stdout",
     "output_type": "stream",
     "text": [
      "-\n",
      "Input sentence: ['go']\n",
      "Decoded sentence:  prends \n",
      "-\n",
      "Input sentence: ['run']\n",
      "Decoded sentence:  laissezmoi \n",
      "-\n",
      "Input sentence: ['help']\n",
      "Decoded sentence:  laissezmoi \n",
      "-\n",
      "Input sentence: ['i see']\n",
      "Decoded sentence:  je \n",
      "-\n",
      "Input sentence: ['beat it']\n",
      "Decoded sentence:  laissezmoi \n"
     ]
    }
   ],
   "source": [
    "for seq_index in [1,20,30,56,199]:\n",
    "    input_seq = encoder_input_data[seq_index: seq_index + 1]\n",
    "    decoded_sentence = decode_sequence(input_seq)\n",
    "    print('-')\n",
    "    print('Input sentence:', input_data[seq_index: seq_index + 1])\n",
    "    print('Decoded sentence:', decoded_sentence[:-4])"
   ]
  }
 ],
 "metadata": {
  "kernelspec": {
   "display_name": "Python 3 (ipykernel)",
   "language": "python",
   "name": "python3"
  },
  "language_info": {
   "codemirror_mode": {
    "name": "ipython",
    "version": 3
   },
   "file_extension": ".py",
   "mimetype": "text/x-python",
   "name": "python",
   "nbconvert_exporter": "python",
   "pygments_lexer": "ipython3",
   "version": "3.9.7"
  }
 },
 "nbformat": 4,
 "nbformat_minor": 5
}
