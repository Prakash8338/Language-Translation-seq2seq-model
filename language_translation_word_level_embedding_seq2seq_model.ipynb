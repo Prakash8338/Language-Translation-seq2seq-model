{
 "cells": [
  {
   "cell_type": "code",
   "execution_count": 1,
   "id": "06d3e4c2",
   "metadata": {},
   "outputs": [],
   "source": [
    "import numpy as np\n",
    "import pandas as pd\n",
    "import keras\n",
    "import os\n",
    "from pathlib import Path"
   ]
  },
  {
   "cell_type": "code",
   "execution_count": 2,
   "id": "e018445b",
   "metadata": {},
   "outputs": [],
   "source": [
    "import pandas as pd\n",
    "import numpy as np\n",
    "import string\n",
    "from string import digits\n",
    "import matplotlib.pyplot as plt\n",
    "%matplotlib inline\n",
    "import re"
   ]
  },
  {
   "cell_type": "code",
   "execution_count": 3,
   "id": "86bfb3b1",
   "metadata": {},
   "outputs": [],
   "source": [
    "batch_size = 64  # Batch size for training.\n",
    "epochs = 10  # Number of epochs to train for.\n",
    "latent_dim = 256  # Latent dimensionality of the encoding space.\n",
    "num_samples = 10000  # Number of samples to train on."
   ]
  },
  {
   "cell_type": "code",
   "execution_count": 4,
   "id": "25e576bc",
   "metadata": {},
   "outputs": [],
   "source": [
    "data_path = \"fra.txt\""
   ]
  },
  {
   "cell_type": "code",
   "execution_count": 5,
   "id": "eb03daa1",
   "metadata": {},
   "outputs": [],
   "source": [
    "input_texts = []\n",
    "target_texts = []\n",
    "with open(data_path, \"r\", encoding=\"utf-8\") as f:\n",
    "    lines = f.read().split(\"\\n\")\n",
    "for line in lines[: min(num_samples, len(lines) - 1)]:\n",
    "    input_text, target_text, _ = line.split(\"\\t\")\n",
    "    # We use \"tab\" as the \"start sequence\" character\n",
    "    # for the targets, and \"\\n\" as \"end sequence\" character.\n",
    "    target_text = target_text\n",
    "    input_texts.append(input_text)\n",
    "    target_texts.append(target_text)"
   ]
  },
  {
   "cell_type": "code",
   "execution_count": 6,
   "id": "5e565a94",
   "metadata": {},
   "outputs": [],
   "source": [
    "exclude = set(string.punctuation)"
   ]
  },
  {
   "cell_type": "code",
   "execution_count": 7,
   "id": "ab805eb4",
   "metadata": {},
   "outputs": [],
   "source": [
    "remove_digits = str.maketrans('', '', digits)"
   ]
  },
  {
   "cell_type": "code",
   "execution_count": 8,
   "id": "f592e3b4",
   "metadata": {},
   "outputs": [],
   "source": [
    "input_data = []\n",
    "for i in range(0, len(input_texts)):\n",
    "    review = input_texts[i]\n",
    "    review = review.lower()\n",
    "    review = re.sub(\"'\", '', review)\n",
    "    review = re.sub(\",\", ' COMMA', review) \n",
    "    review = [ch for ch in review if ch not in exclude]\n",
    "    review = ''.join(review)\n",
    "    review = review.translate(remove_digits)\n",
    "    input_data.append(review)"
   ]
  },
  {
   "cell_type": "code",
   "execution_count": 9,
   "id": "aed87ccc",
   "metadata": {},
   "outputs": [],
   "source": [
    "target_data = []\n",
    "for i in range(0, len(target_texts)):\n",
    "    review = target_texts[i]\n",
    "    review = review.lower()\n",
    "    review = re.sub(\"'\", '', review)\n",
    "    review = re.sub(\",\", ' COMMA', review)\n",
    "    review = [ch for ch in review if ch not in exclude]\n",
    "    review = ''.join(review)\n",
    "    review = review.translate(remove_digits)\n",
    "    review = 'START_ '+ review + ' _END'\n",
    "    target_data.append(review)"
   ]
  },
  {
   "cell_type": "code",
   "execution_count": 10,
   "id": "a9be7cd7",
   "metadata": {},
   "outputs": [
    {
     "data": {
      "text/plain": [
       "'START_ va  _END'"
      ]
     },
     "execution_count": 10,
     "metadata": {},
     "output_type": "execute_result"
    }
   ],
   "source": [
    "target_data[0]"
   ]
  },
  {
   "cell_type": "code",
   "execution_count": 11,
   "id": "ca2e58b1",
   "metadata": {},
   "outputs": [],
   "source": [
    "english_words=set()\n",
    "for eng in input_data:\n",
    "    for word in eng.split():\n",
    "        if word not in english_words:\n",
    "            english_words.add(word)"
   ]
  },
  {
   "cell_type": "code",
   "execution_count": 12,
   "id": "6152f03a",
   "metadata": {},
   "outputs": [],
   "source": [
    "french_words=set()\n",
    "for french in target_data:\n",
    "    for word in french.split():\n",
    "        if word not in french_words:\n",
    "            french_words.add(word)"
   ]
  },
  {
   "cell_type": "code",
   "execution_count": 13,
   "id": "624a05f8",
   "metadata": {},
   "outputs": [
    {
     "name": "stdout",
     "output_type": "stream",
     "text": [
      "2016\n",
      "4411\n"
     ]
    }
   ],
   "source": [
    "print(len(english_words))\n",
    "print(len(french_words))"
   ]
  },
  {
   "cell_type": "code",
   "execution_count": 14,
   "id": "0e0ea287",
   "metadata": {},
   "outputs": [
    {
     "data": {
      "text/plain": [
       "5"
      ]
     },
     "execution_count": 14,
     "metadata": {},
     "output_type": "execute_result"
    }
   ],
   "source": [
    "lenght_list_english=[]\n",
    "for l in input_data:\n",
    "    lenght_list_english.append(len(l.split(' ')))\n",
    "np.max(lenght_list_english)"
   ]
  },
  {
   "cell_type": "code",
   "execution_count": 15,
   "id": "0d40085e",
   "metadata": {},
   "outputs": [
    {
     "data": {
      "text/plain": [
       "12"
      ]
     },
     "execution_count": 15,
     "metadata": {},
     "output_type": "execute_result"
    }
   ],
   "source": [
    "lenght_list_french=[]\n",
    "for l in target_data:\n",
    "    lenght_list_french.append(len(l.split(' ')))\n",
    "np.max(lenght_list_french)"
   ]
  },
  {
   "cell_type": "code",
   "execution_count": 16,
   "id": "d595d5a6",
   "metadata": {},
   "outputs": [],
   "source": [
    "all_english_words = sorted(list(english_words))\n",
    "all_french_words = sorted(list(french_words))\n",
    "english_vocab_size = len(all_english_words)\n",
    "french_vocab_size = len(all_french_words)\n",
    "english_max_sent_length = np.max(lenght_list_english)\n",
    "french_max_sent_length = np.max(lenght_list_french)"
   ]
  },
  {
   "cell_type": "code",
   "execution_count": 17,
   "id": "6a3a709c",
   "metadata": {},
   "outputs": [],
   "source": [
    "english_token_index = dict([(word, i) for i, word in enumerate(all_english_words)])\n",
    "french_token_index = dict([(word, i) for i, word in enumerate(all_french_words)])"
   ]
  },
  {
   "cell_type": "code",
   "execution_count": 18,
   "id": "e2361ff1",
   "metadata": {},
   "outputs": [],
   "source": [
    "encoder_input_data = np.zeros((num_samples, english_max_sent_length), dtype='float32')\n",
    "decoder_input_data = np.zeros((num_samples, french_max_sent_length), dtype='float32')\n",
    "decoder_target_data = np.zeros((num_samples, french_max_sent_length, french_vocab_size), dtype='float32')"
   ]
  },
  {
   "cell_type": "code",
   "execution_count": 19,
   "id": "0e30fbb7",
   "metadata": {},
   "outputs": [],
   "source": [
    "for i, (input_text, target_text) in enumerate(zip(input_data, target_data)):\n",
    "    for t, word in enumerate(input_text.split()):\n",
    "        encoder_input_data[i, t] = english_token_index[word]\n",
    "    for t, word in enumerate(target_text.split()):\n",
    "        # decoder_target_data is ahead of decoder_input_data by one timestep\n",
    "        decoder_input_data[i, t] = french_token_index[word]\n",
    "        if t > 0:\n",
    "            # decoder_target_data will be ahead by one timestep\n",
    "            # and will not include the start character.\n",
    "            decoder_target_data[i, t - 1, french_token_index[word]] = 1."
   ]
  },
  {
   "cell_type": "code",
   "execution_count": 20,
   "id": "cf647d8f",
   "metadata": {},
   "outputs": [],
   "source": [
    "embedding_size = 256"
   ]
  },
  {
   "cell_type": "code",
   "execution_count": 21,
   "id": "d62f2062",
   "metadata": {},
   "outputs": [],
   "source": [
    "from keras.layers import Input, LSTM, Embedding, Dense\n",
    "from keras.models import Model"
   ]
  },
  {
   "cell_type": "code",
   "execution_count": 22,
   "id": "4b4406b4",
   "metadata": {},
   "outputs": [],
   "source": [
    "encoder_inputs = Input(shape=(None,))\n",
    "en_x=  Embedding(english_vocab_size, embedding_size)(encoder_inputs)\n",
    "encoder = LSTM(embedding_size, return_state=True)\n",
    "encoder_outputs, state_h, state_c = encoder(en_x)\n",
    "# We discard `encoder_outputs` and only keep the states.\n",
    "encoder_states = [state_h, state_c]"
   ]
  },
  {
   "cell_type": "code",
   "execution_count": 23,
   "id": "ea6c2a64",
   "metadata": {},
   "outputs": [],
   "source": [
    "# Set up the decoder, using `encoder_states` as initial state.\n",
    "decoder_inputs = Input(shape=(None,))\n",
    "\n",
    "dex=  Embedding(french_vocab_size, embedding_size)\n",
    "\n",
    "final_dex= dex(decoder_inputs)\n",
    "\n",
    "\n",
    "decoder_lstm = LSTM(embedding_size, return_sequences=True, return_state=True)\n",
    "\n",
    "decoder_outputs, _, _ = decoder_lstm(final_dex,\n",
    "                                     initial_state=encoder_states)\n",
    "\n",
    "decoder_dense = Dense(french_vocab_size, activation='softmax')\n",
    "\n",
    "decoder_outputs = decoder_dense(decoder_outputs)\n",
    "\n",
    "model = Model([encoder_inputs, decoder_inputs], decoder_outputs)\n",
    "\n",
    "model.compile(optimizer='rmsprop', loss='categorical_crossentropy', metrics=['accuracy'])"
   ]
  },
  {
   "cell_type": "code",
   "execution_count": 24,
   "id": "ed17a490",
   "metadata": {},
   "outputs": [
    {
     "name": "stdout",
     "output_type": "stream",
     "text": [
      "Epoch 1/10\n",
      "149/149 [==============================] - 54s 332ms/step - loss: 1.8538 - accuracy: 0.0951 - val_loss: 2.1036 - val_accuracy: 0.0833\n",
      "Epoch 2/10\n",
      "149/149 [==============================] - 54s 365ms/step - loss: 1.7175 - accuracy: 0.1064 - val_loss: 2.0257 - val_accuracy: 0.0988\n",
      "Epoch 3/10\n",
      "149/149 [==============================] - 59s 395ms/step - loss: 1.6275 - accuracy: 0.1171 - val_loss: 1.9564 - val_accuracy: 0.1332\n",
      "Epoch 4/10\n",
      "149/149 [==============================] - 46s 312ms/step - loss: 1.5415 - accuracy: 0.1197 - val_loss: 1.8783 - val_accuracy: 0.1332\n",
      "Epoch 5/10\n",
      "149/149 [==============================] - 48s 320ms/step - loss: 1.4659 - accuracy: 0.1241 - val_loss: 1.7716 - val_accuracy: 0.1743\n",
      "Epoch 6/10\n",
      "149/149 [==============================] - 47s 312ms/step - loss: 1.4011 - accuracy: 0.1304 - val_loss: 1.7177 - val_accuracy: 0.1778\n",
      "Epoch 7/10\n",
      "149/149 [==============================] - 46s 309ms/step - loss: 1.3390 - accuracy: 0.1338 - val_loss: 1.6806 - val_accuracy: 0.1797\n",
      "Epoch 8/10\n",
      "149/149 [==============================] - 46s 308ms/step - loss: 1.2849 - accuracy: 0.1380 - val_loss: 1.6576 - val_accuracy: 0.1817\n",
      "Epoch 9/10\n",
      "149/149 [==============================] - 46s 308ms/step - loss: 1.2369 - accuracy: 0.1433 - val_loss: 1.6329 - val_accuracy: 0.1822\n",
      "Epoch 10/10\n",
      "149/149 [==============================] - 48s 321ms/step - loss: 1.1919 - accuracy: 0.1488 - val_loss: 1.6175 - val_accuracy: 0.1807\n"
     ]
    },
    {
     "data": {
      "text/plain": [
       "<keras.callbacks.History at 0x23f1280b1f0>"
      ]
     },
     "execution_count": 24,
     "metadata": {},
     "output_type": "execute_result"
    }
   ],
   "source": [
    "model.fit([encoder_input_data, decoder_input_data], decoder_target_data,\n",
    "          batch_size,\n",
    "          epochs,\n",
    "          validation_split=0.05)"
   ]
  },
  {
   "cell_type": "code",
   "execution_count": 25,
   "id": "a4886dc4",
   "metadata": {},
   "outputs": [
    {
     "name": "stdout",
     "output_type": "stream",
     "text": [
      "Model: \"model_1\"\n",
      "_________________________________________________________________\n",
      " Layer (type)                Output Shape              Param #   \n",
      "=================================================================\n",
      " input_1 (InputLayer)        [(None, None)]            0         \n",
      "                                                                 \n",
      " embedding (Embedding)       (None, None, 256)         516096    \n",
      "                                                                 \n",
      " lstm (LSTM)                 [(None, 256),             525312    \n",
      "                              (None, 256),                       \n",
      "                              (None, 256)]                       \n",
      "                                                                 \n",
      "=================================================================\n",
      "Total params: 1,041,408\n",
      "Trainable params: 1,041,408\n",
      "Non-trainable params: 0\n",
      "_________________________________________________________________\n"
     ]
    }
   ],
   "source": [
    "encoder_model = Model(encoder_inputs, encoder_states)\n",
    "encoder_model.summary()"
   ]
  },
  {
   "cell_type": "code",
   "execution_count": 27,
   "id": "e8f0d922",
   "metadata": {},
   "outputs": [],
   "source": [
    "decoder_state_input_h = Input(shape=(embedding_size,))\n",
    "decoder_state_input_c = Input(shape=(embedding_size,))\n",
    "decoder_states_inputs = [decoder_state_input_h, decoder_state_input_c]\n",
    "\n",
    "final_dex2= dex(decoder_inputs)\n",
    "\n",
    "decoder_outputs2, state_h2, state_c2 = decoder_lstm(final_dex2, initial_state=decoder_states_inputs)\n",
    "decoder_states2 = [state_h2, state_c2]\n",
    "decoder_outputs2 = decoder_dense(decoder_outputs2)\n",
    "decoder_model = Model(\n",
    "    [decoder_inputs] + decoder_states_inputs,\n",
    "    [decoder_outputs2] + decoder_states2)\n",
    "\n",
    "# Reverse-lookup token index to decode sequences back to\n",
    "# something readable.\n",
    "reverse_input_char_index = dict(\n",
    "    (i, char) for char, i in english_token_index.items())\n",
    "reverse_target_char_index = dict(\n",
    "    (i, char) for char, i in french_token_index.items())"
   ]
  },
  {
   "cell_type": "code",
   "execution_count": 28,
   "id": "0041dc7e",
   "metadata": {},
   "outputs": [],
   "source": [
    "def decode_sequence(input_seq):\n",
    "    # Encode the input as state vectors.\n",
    "    states_value = encoder_model.predict(input_seq)\n",
    "    # Generate empty target sequence of length 1.\n",
    "    target_seq = np.zeros((1,1))\n",
    "    # Populate the first character of target sequence with the start character.\n",
    "    target_seq[0, 0] = french_token_index['START_']\n",
    "\n",
    "    # Sampling loop for a batch of sequences\n",
    "    # (to simplify, here we assume a batch of size 1).\n",
    "    stop_condition = False\n",
    "    decoded_sentence = ''\n",
    "    while not stop_condition:\n",
    "        output_tokens, h, c = decoder_model.predict(\n",
    "            [target_seq] + states_value)\n",
    "\n",
    "        # Sample a token\n",
    "        sampled_token_index = np.argmax(output_tokens[0, -1, :])\n",
    "        sampled_char = reverse_target_char_index[sampled_token_index]\n",
    "        decoded_sentence += ' '+sampled_char\n",
    "\n",
    "        # Exit condition: either hit max length\n",
    "        # or find stop character.\n",
    "        if (sampled_char == '_END' or\n",
    "           len(decoded_sentence) > 52):\n",
    "            stop_condition = True\n",
    "\n",
    "        # Update the target sequence (of length 1).\n",
    "        target_seq = np.zeros((1,1))\n",
    "        target_seq[0, 0] = sampled_token_index\n",
    "\n",
    "        # Update states\n",
    "        states_value = [h, c]\n",
    "\n",
    "    return decoded_sentence"
   ]
  },
  {
   "cell_type": "code",
   "execution_count": 31,
   "id": "914516ba",
   "metadata": {},
   "outputs": [
    {
     "name": "stdout",
     "output_type": "stream",
     "text": [
      "-\n",
      "Input sentence: ['go']\n",
      "Decoded sentence:  \n",
      "-\n",
      "Input sentence: ['run']\n",
      "Decoded sentence:  dégage \n",
      "-\n",
      "Input sentence: ['help']\n",
      "Decoded sentence:  dégage \n",
      "-\n",
      "Input sentence: ['i see']\n",
      "Decoded sentence:  je me suis \n",
      "-\n",
      "Input sentence: ['beat it']\n",
      "Decoded sentence:  dégage \n"
     ]
    }
   ],
   "source": [
    "for seq_index in [1,20,30,56,199]:\n",
    "    input_seq = encoder_input_data[seq_index: seq_index + 1]\n",
    "    decoded_sentence = decode_sequence(input_seq)\n",
    "    print('-')\n",
    "    print('Input sentence:', input_data[seq_index: seq_index + 1])\n",
    "    print('Decoded sentence:', decoded_sentence[:-4])"
   ]
  }
 ],
 "metadata": {
  "kernelspec": {
   "display_name": "Python 3 (ipykernel)",
   "language": "python",
   "name": "python3"
  },
  "language_info": {
   "codemirror_mode": {
    "name": "ipython",
    "version": 3
   },
   "file_extension": ".py",
   "mimetype": "text/x-python",
   "name": "python",
   "nbconvert_exporter": "python",
   "pygments_lexer": "ipython3",
   "version": "3.9.7"
  }
 },
 "nbformat": 4,
 "nbformat_minor": 5
}
