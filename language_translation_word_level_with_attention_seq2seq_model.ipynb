{
 "cells": [
  {
   "cell_type": "code",
   "execution_count": 1,
   "id": "06d3e4c2",
   "metadata": {},
   "outputs": [],
   "source": [
    "import numpy as np\n",
    "import pandas as pd\n",
    "import keras\n",
    "import os\n",
    "from pathlib import Path"
   ]
  },
  {
   "cell_type": "code",
   "execution_count": 2,
   "id": "7855d1e1",
   "metadata": {},
   "outputs": [],
   "source": [
    "#from tensorflow.python.framework.ops import disable_eager_execution\n",
    "#disable_eager_execution()"
   ]
  },
  {
   "cell_type": "code",
   "execution_count": 3,
   "id": "e018445b",
   "metadata": {},
   "outputs": [],
   "source": [
    "import pandas as pd\n",
    "import numpy as np\n",
    "import string\n",
    "from string import digits\n",
    "import matplotlib.pyplot as plt\n",
    "%matplotlib inline\n",
    "import re"
   ]
  },
  {
   "cell_type": "code",
   "execution_count": 4,
   "id": "86bfb3b1",
   "metadata": {},
   "outputs": [],
   "source": [
    "batch_size = 64  # Batch size for training.\n",
    "epochs = 5  # Number of epochs to train for.\n",
    "latent_dim = 256  # Latent dimensionality of the encoding space.\n",
    "num_samples = 10000  # Number of samples to train on."
   ]
  },
  {
   "cell_type": "code",
   "execution_count": 5,
   "id": "25e576bc",
   "metadata": {},
   "outputs": [],
   "source": [
    "data_path = \"fra.txt\""
   ]
  },
  {
   "cell_type": "code",
   "execution_count": 6,
   "id": "eb03daa1",
   "metadata": {},
   "outputs": [],
   "source": [
    "input_texts = []\n",
    "target_texts = []\n",
    "with open(data_path, \"r\", encoding=\"utf-8\") as f:\n",
    "    lines = f.read().split(\"\\n\")\n",
    "for line in lines[: min(num_samples, len(lines) - 1)]:\n",
    "    input_text, target_text, _ = line.split(\"\\t\")\n",
    "    # We use \"tab\" as the \"start sequence\" character\n",
    "    # for the targets, and \"\\n\" as \"end sequence\" character.\n",
    "    target_text = target_text\n",
    "    input_texts.append(input_text)\n",
    "    target_texts.append(target_text)"
   ]
  },
  {
   "cell_type": "code",
   "execution_count": 7,
   "id": "5e565a94",
   "metadata": {},
   "outputs": [],
   "source": [
    "exclude = set(string.punctuation)"
   ]
  },
  {
   "cell_type": "code",
   "execution_count": 8,
   "id": "ab805eb4",
   "metadata": {},
   "outputs": [],
   "source": [
    "remove_digits = str.maketrans('', '', digits)"
   ]
  },
  {
   "cell_type": "code",
   "execution_count": 9,
   "id": "f592e3b4",
   "metadata": {},
   "outputs": [],
   "source": [
    "input_data = []\n",
    "for i in range(0, len(input_texts)):\n",
    "    review = input_texts[i]\n",
    "    review = review.lower()\n",
    "    review = re.sub(\"'\", '', review)\n",
    "    review = re.sub(\",\", ' COMMA', review) \n",
    "    review = [ch for ch in review if ch not in exclude]\n",
    "    review = ''.join(review)\n",
    "    review = review.translate(remove_digits)\n",
    "    input_data.append(review)"
   ]
  },
  {
   "cell_type": "code",
   "execution_count": 10,
   "id": "aed87ccc",
   "metadata": {},
   "outputs": [],
   "source": [
    "target_data = []\n",
    "for i in range(0, len(target_texts)):\n",
    "    review = target_texts[i]\n",
    "    review = review.lower()\n",
    "    review = re.sub(\"'\", '', review)\n",
    "    review = re.sub(\",\", ' COMMA', review)\n",
    "    review = [ch for ch in review if ch not in exclude]\n",
    "    review = ''.join(review)\n",
    "    review = review.translate(remove_digits)\n",
    "    review = 'START_ '+ review + ' _END'\n",
    "    target_data.append(review)"
   ]
  },
  {
   "cell_type": "code",
   "execution_count": 11,
   "id": "a9be7cd7",
   "metadata": {},
   "outputs": [
    {
     "data": {
      "text/plain": [
       "'START_ va  _END'"
      ]
     },
     "execution_count": 11,
     "metadata": {},
     "output_type": "execute_result"
    }
   ],
   "source": [
    "target_data[0]"
   ]
  },
  {
   "cell_type": "code",
   "execution_count": 12,
   "id": "ca2e58b1",
   "metadata": {},
   "outputs": [],
   "source": [
    "english_words=set()\n",
    "for eng in input_data:\n",
    "    for word in eng.split():\n",
    "        if word not in english_words:\n",
    "            english_words.add(word)"
   ]
  },
  {
   "cell_type": "code",
   "execution_count": 13,
   "id": "6152f03a",
   "metadata": {},
   "outputs": [],
   "source": [
    "french_words=set()\n",
    "for french in target_data:\n",
    "    for word in french.split():\n",
    "        if word not in french_words:\n",
    "            french_words.add(word)"
   ]
  },
  {
   "cell_type": "code",
   "execution_count": 14,
   "id": "624a05f8",
   "metadata": {},
   "outputs": [
    {
     "name": "stdout",
     "output_type": "stream",
     "text": [
      "2016\n",
      "4411\n"
     ]
    }
   ],
   "source": [
    "print(len(english_words))\n",
    "print(len(french_words))"
   ]
  },
  {
   "cell_type": "code",
   "execution_count": 15,
   "id": "0e0ea287",
   "metadata": {},
   "outputs": [
    {
     "data": {
      "text/plain": [
       "5"
      ]
     },
     "execution_count": 15,
     "metadata": {},
     "output_type": "execute_result"
    }
   ],
   "source": [
    "lenght_list_english=[]\n",
    "for l in input_data:\n",
    "    lenght_list_english.append(len(l.split(' ')))\n",
    "np.max(lenght_list_english)"
   ]
  },
  {
   "cell_type": "code",
   "execution_count": 16,
   "id": "0d40085e",
   "metadata": {},
   "outputs": [
    {
     "data": {
      "text/plain": [
       "12"
      ]
     },
     "execution_count": 16,
     "metadata": {},
     "output_type": "execute_result"
    }
   ],
   "source": [
    "lenght_list_french=[]\n",
    "for l in target_data:\n",
    "    lenght_list_french.append(len(l.split(' ')))\n",
    "np.max(lenght_list_french)"
   ]
  },
  {
   "cell_type": "code",
   "execution_count": 17,
   "id": "d595d5a6",
   "metadata": {},
   "outputs": [],
   "source": [
    "all_english_words = sorted(list(english_words))\n",
    "all_french_words = sorted(list(french_words))\n",
    "english_vocab_size = len(all_english_words)\n",
    "french_vocab_size = len(all_french_words)\n",
    "english_max_sent_length = np.max(lenght_list_english)\n",
    "french_max_sent_length = np.max(lenght_list_french)"
   ]
  },
  {
   "cell_type": "code",
   "execution_count": 18,
   "id": "6a3a709c",
   "metadata": {},
   "outputs": [],
   "source": [
    "english_token_index = dict([(word, i) for i, word in enumerate(all_english_words)])\n",
    "french_token_index = dict([(word, i) for i, word in enumerate(all_french_words)])"
   ]
  },
  {
   "cell_type": "code",
   "execution_count": 19,
   "id": "40f06797",
   "metadata": {},
   "outputs": [],
   "source": [
    "english_max_sent_length = french_max_sent_length"
   ]
  },
  {
   "cell_type": "code",
   "execution_count": 20,
   "id": "e2361ff1",
   "metadata": {},
   "outputs": [],
   "source": [
    "encoder_input_data = np.zeros((num_samples, english_max_sent_length), dtype='float32')\n",
    "decoder_input_data = np.zeros((num_samples, french_max_sent_length), dtype='float32')\n",
    "decoder_target_data = np.zeros((num_samples, french_max_sent_length, french_vocab_size), dtype='float32')"
   ]
  },
  {
   "cell_type": "code",
   "execution_count": 21,
   "id": "0e30fbb7",
   "metadata": {},
   "outputs": [],
   "source": [
    "for i, (input_text, target_text) in enumerate(zip(input_data, target_data)):\n",
    "    for t, word in enumerate(input_text.split()):\n",
    "        encoder_input_data[i, t] = english_token_index[word]\n",
    "    for t, word in enumerate(target_text.split()):\n",
    "        # decoder_target_data is ahead of decoder_input_data by one timestep\n",
    "        decoder_input_data[i, t] = french_token_index[word]\n",
    "        if t > 0:\n",
    "            # decoder_target_data will be ahead by one timestep\n",
    "            # and will not include the start character.\n",
    "            decoder_target_data[i, t - 1,french_token_index[word]] = 1."
   ]
  },
  {
   "cell_type": "code",
   "execution_count": 22,
   "id": "608e8f16",
   "metadata": {},
   "outputs": [],
   "source": [
    "embedding_size = 256\n",
    "latent_dim = 256"
   ]
  },
  {
   "cell_type": "code",
   "execution_count": 23,
   "id": "014eaa62",
   "metadata": {},
   "outputs": [],
   "source": [
    "from keras.layers import Input, LSTM, Embedding, Dense, Attention, Concatenate, TimeDistributed\n",
    "from keras.models import Model"
   ]
  },
  {
   "cell_type": "code",
   "execution_count": 24,
   "id": "47c87e32",
   "metadata": {},
   "outputs": [],
   "source": [
    "#encoder model\n",
    "encoder_inputs = Input(shape=(12,))\n",
    "en_x=  Embedding(english_vocab_size, embedding_size)(encoder_inputs)\n",
    "encoder_lstm_1 = LSTM(latent_dim,return_state=True,return_sequences=True)\n",
    "encoder_output1, state_h1, state_c1  =  encoder_lstm_1(en_x)\n",
    "\n",
    "#encoder_lstm_2 = LSTM(latent_dim, return_state=True,return_sequences=True)\n",
    "#encoder_output2, state_h2, state_c2 = encoder_lstm_2(encoder_output1)"
   ]
  },
  {
   "cell_type": "code",
   "execution_count": 25,
   "id": "e9cf9e74",
   "metadata": {},
   "outputs": [
    {
     "data": {
      "text/plain": [
       "TensorShape([None, 12, 256])"
      ]
     },
     "execution_count": 25,
     "metadata": {},
     "output_type": "execute_result"
    }
   ],
   "source": [
    "encoder_output1.shape"
   ]
  },
  {
   "cell_type": "code",
   "execution_count": 26,
   "id": "4cae1b3b",
   "metadata": {},
   "outputs": [],
   "source": [
    "#decoder model\n",
    "decoder_inputs = Input(shape=(None,))\n",
    "dex=  Embedding(french_vocab_size, embedding_size)\n",
    "final_dex= dex(decoder_inputs)\n",
    "decoder_lstm = LSTM(latent_dim, return_sequences=True, return_state=True)\n",
    "decoder_outputs, _, _ = decoder_lstm(final_dex, initial_state=[state_h1, state_c1])"
   ]
  },
  {
   "cell_type": "code",
   "execution_count": 27,
   "id": "63e1c4db",
   "metadata": {},
   "outputs": [],
   "source": [
    "#attention layer\n",
    "attention = Attention()\n",
    "attn_out=attention([encoder_output1,decoder_outputs])"
   ]
  },
  {
   "cell_type": "code",
   "execution_count": 28,
   "id": "57f495e7",
   "metadata": {},
   "outputs": [],
   "source": [
    "#combine attention with decoder outputs\n",
    "decoder_outputs = Concatenate(axis=-1)([ decoder_outputs,attn_out])\n",
    "decoder_dense = TimeDistributed(Dense(french_vocab_size, activation='softmax'))\n",
    "decoder_final_outputs=decoder_dense(decoder_outputs)\n",
    "seq2seq_Model = Model([encoder_inputs, decoder_inputs], decoder_final_outputs)\n",
    "seq2seq_Model.compile(optimizer='rmsprop', loss='categorical_crossentropy',metrics=[\"accuracy\"])"
   ]
  },
  {
   "cell_type": "code",
   "execution_count": 29,
   "id": "39d5cb86",
   "metadata": {},
   "outputs": [
    {
     "name": "stdout",
     "output_type": "stream",
     "text": [
      "Epoch 1/5\n",
      "149/149 [==============================] - 88s 563ms/step - loss: 1.6579 - accuracy: 0.1035 - val_loss: 1.6989 - val_accuracy: 0.1238\n",
      "Epoch 2/5\n",
      "149/149 [==============================] - 78s 524ms/step - loss: 1.2850 - accuracy: 0.1396 - val_loss: 1.3860 - val_accuracy: 0.1868\n",
      "Epoch 3/5\n",
      "149/149 [==============================] - 79s 529ms/step - loss: 1.0739 - accuracy: 0.1674 - val_loss: 1.2425 - val_accuracy: 0.2087\n",
      "Epoch 4/5\n",
      "149/149 [==============================] - 78s 522ms/step - loss: 0.9391 - accuracy: 0.1856 - val_loss: 1.1454 - val_accuracy: 0.2212\n",
      "Epoch 5/5\n",
      "149/149 [==============================] - 77s 517ms/step - loss: 0.8384 - accuracy: 0.1998 - val_loss: 1.0936 - val_accuracy: 0.2353\n"
     ]
    },
    {
     "data": {
      "text/plain": [
       "<keras.callbacks.History at 0x18ddcb2e910>"
      ]
     },
     "execution_count": 29,
     "metadata": {},
     "output_type": "execute_result"
    }
   ],
   "source": [
    "seq2seq_Model.fit([encoder_input_data, decoder_input_data], decoder_target_data,\n",
    "          batch_size,\n",
    "          epochs,\n",
    "          validation_split=0.05)"
   ]
  }
 ],
 "metadata": {
  "kernelspec": {
   "display_name": "Python 3 (ipykernel)",
   "language": "python",
   "name": "python3"
  },
  "language_info": {
   "codemirror_mode": {
    "name": "ipython",
    "version": 3
   },
   "file_extension": ".py",
   "mimetype": "text/x-python",
   "name": "python",
   "nbconvert_exporter": "python",
   "pygments_lexer": "ipython3",
   "version": "3.9.7"
  }
 },
 "nbformat": 4,
 "nbformat_minor": 5
}
